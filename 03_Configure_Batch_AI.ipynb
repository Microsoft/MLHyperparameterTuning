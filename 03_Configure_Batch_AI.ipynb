{
 "cells": [
  {
   "cell_type": "markdown",
   "metadata": {},
   "source": [
    "# Configure Batch AI\n",
    "Create resources needed for Batch AI, and create the configuration file used by Batch AI utilities.\n",
    "\n",
    "The steps are\n",
    "- [import the libraries](#import),\n",
    "- [add to the dotenv shared parameters](#dotenv),\n",
    "- [login to the Azure account](#login),\n",
    "- [create resources needed to use Batch AI](#resources), and\n",
    "- [write the Batch AI configuration file](#configuration).\n",
    "\n",
    "\n",
    "## Imports <a id='import'></a>"
   ]
  },
  {
   "cell_type": "code",
   "execution_count": null,
   "metadata": {},
   "outputs": [],
   "source": [
    "%load_ext dotenv\n",
    "import os\n",
    "import shutil\n",
    "import json\n",
    "import dotenv"
   ]
  },
  {
   "cell_type": "markdown",
   "metadata": {},
   "source": [
    "## Set up  <a id='dotenv'></a>\n",
    "Define parameters used to create resources for Batch AI. Please modify the values below as you see fit."
   ]
  },
  {
   "cell_type": "code",
   "execution_count": null,
   "metadata": {
    "tags": [
     "parameters"
    ]
   },
   "outputs": [],
   "source": [
    "# The location of the dotenv file\n",
    "dotenv_path = dotenv.find_dotenv()\n",
    "# If you have multiple subscriptions select the subscription you want to use\n",
    "dotenv.set_key(dotenv_path, 'selected_subscription', \"selected_subscription\")\n",
    "# To contain all resources to be created\n",
    "dotenv.set_key(dotenv_path, 'resource_group', \"resource_group\")\n",
    "# The region in which resources will be located\n",
    "dotenv.set_key(dotenv_path, 'location', \"location\") \n",
    "# The default Batch AI workspace to be created\n",
    "dotenv.set_key(dotenv_path, 'batchai_workspace', \"batchai_workspace\")\n",
    "# The Batch AI administrator account login\n",
    "dotenv.set_key(dotenv_path, 'batchai_login', \"batchai_login\")\n",
    "# The Batch AI administrator account password\n",
    "dotenv.set_key(dotenv_path, 'batchai_password', \"batchai_password\")\n",
    "# Storage for the data, learning script, and outputs\n",
    "dotenv.set_key(dotenv_path, 'storage_account', \"storage_account\")\n",
    "# The file containing the Batch AI configuration\n",
    "dotenv.set_key(dotenv_path, 'configuration_path', 'configuration_path')"
   ]
  },
  {
   "cell_type": "markdown",
   "metadata": {},
   "source": [
    "Read in the parameters."
   ]
  },
  {
   "cell_type": "code",
   "execution_count": null,
   "metadata": {},
   "outputs": [],
   "source": [
    "%dotenv -o"
   ]
  },
  {
   "cell_type": "markdown",
   "metadata": {},
   "source": [
    "## Azure account login <a id='login'></a>\n",
    "The commands below will ensure you are logged in to your Azure account. If you are not logged in, it will initiate a login by popping up a browser at a login page where you will select your Azure account."
   ]
  },
  {
   "cell_type": "code",
   "execution_count": null,
   "metadata": {
    "scrolled": true
   },
   "outputs": [],
   "source": [
    "%%bash\n",
    "list=`az account list -o table`\n",
    "if [ \"$list\" == '[]' ] || [ \"$list\" == '' ]; then \n",
    "  az login -o table\n",
    "else\n",
    "  az account list -o table \n",
    "fi"
   ]
  },
  {
   "cell_type": "markdown",
   "metadata": {},
   "source": [
    "Set the selected subscription as the default."
   ]
  },
  {
   "cell_type": "code",
   "execution_count": null,
   "metadata": {},
   "outputs": [],
   "source": [
    "%%bash\n",
    "az account set --subscription \"$selected_subscription\"\n",
    "az account show -o table"
   ]
  },
  {
   "cell_type": "markdown",
   "metadata": {},
   "source": [
    "Get the information for the selected Azure subscription."
   ]
  },
  {
   "cell_type": "code",
   "execution_count": null,
   "metadata": {},
   "outputs": [],
   "source": [
    "account_json = !az account show\n",
    "account = json.loads(''.join(account_json))"
   ]
  },
  {
   "cell_type": "markdown",
   "metadata": {},
   "source": [
    "## Batch AI resources <a id='resources'></a>\n",
    "Register the Batch and Batch AI resources for your subscription. This may take a few seconds to become effective."
   ]
  },
  {
   "cell_type": "code",
   "execution_count": null,
   "metadata": {},
   "outputs": [],
   "source": [
    "%%bash\n",
    "az provider register -n Microsoft.Batch\n",
    "az provider register -n Microsoft.BatchAI"
   ]
  },
  {
   "cell_type": "markdown",
   "metadata": {},
   "source": [
    "Assign to Batch AI the role of Active Directory Network Contributor so it can manage clusters for you. The assignee ```9fcb3732-5f52-4135-8c08-9d4bbaf203ea``` is the service principal of Microsoft Azure BatchAI in public cloud."
   ]
  },
  {
   "cell_type": "code",
   "execution_count": null,
   "metadata": {},
   "outputs": [],
   "source": [
    "!az role assignment create --role \"Network Contributor\" --assignee 9fcb3732-5f52-4135-8c08-9d4bbaf203ea"
   ]
  },
  {
   "cell_type": "markdown",
   "metadata": {},
   "source": [
    "Create the resource group if it doesn't already exist. It will hold the Batch AI workspace and a storage accounnt. "
   ]
  },
  {
   "cell_type": "code",
   "execution_count": null,
   "metadata": {},
   "outputs": [],
   "source": [
    "!az group create -l $location -n $resource_group -o table"
   ]
  },
  {
   "cell_type": "markdown",
   "metadata": {},
   "source": [
    "Create the storage account. If it doesn't already exist, this step may take many minutes."
   ]
  },
  {
   "cell_type": "code",
   "execution_count": null,
   "metadata": {},
   "outputs": [],
   "source": [
    "!az storage account create -l $location -g $resource_group -n $storage_account -o table"
   ]
  },
  {
   "cell_type": "markdown",
   "metadata": {},
   "source": [
    "Get a key to the storage account."
   ]
  },
  {
   "cell_type": "code",
   "execution_count": null,
   "metadata": {},
   "outputs": [],
   "source": [
    "storage_keys_json = !az storage account keys list -g $resource_group -n $storage_account\n",
    "storage_keys = json.loads(''.join(storage_keys_json))"
   ]
  },
  {
   "cell_type": "markdown",
   "metadata": {},
   "source": [
    "Create a service principal for Batch AI and configure its access to Azure. Capture and parse the output for later use."
   ]
  },
  {
   "cell_type": "code",
   "execution_count": null,
   "metadata": {},
   "outputs": [],
   "source": [
    "aad_json = !az ad sp create-for-rbac\n",
    "aad = json.loads(''.join(aad_json[aad_json.index('{'):]))"
   ]
  },
  {
   "cell_type": "markdown",
   "metadata": {},
   "source": [
    "Create the workspace if it doesn't already exist."
   ]
  },
  {
   "cell_type": "code",
   "execution_count": null,
   "metadata": {},
   "outputs": [],
   "source": [
    "!az batchai workspace create -l $location -g $resource_group -n $batchai_workspace -o table"
   ]
  },
  {
   "cell_type": "markdown",
   "metadata": {},
   "source": [
    "## Configuration dictionary <a id='configuration'></a>\n",
    "Use the above information to create a configuration dictionary needed by various Batch AI utilities."
   ]
  },
  {
   "cell_type": "code",
   "execution_count": null,
   "metadata": {},
   "outputs": [],
   "source": [
    "cfg = {\n",
    "    \"subscription_id\": account['id'],\n",
    "    \"aad_client_id\": aad['appId'],\n",
    "    \"aad_secret\": aad['password'],\n",
    "    \"aad_tenant\": aad['tenant'],\n",
    "    \"location\": os.getenv('location'),\n",
    "    \"base_url\": \"\",\n",
    "    \"resource_group\": os.getenv('resource_group'),\n",
    "    \"workspace\": os.getenv('batchai_workspace'),\n",
    "    \"storage_account\" : {\n",
    "        \"name\": os.getenv('storage_account'),\n",
    "        \"key\": storage_keys[0]['value']\n",
    "    },\n",
    "    \"admin_user\" : {\n",
    "        \"name\": os.getenv('batchai_login'),\n",
    "        \"password\": os.getenv('batchai_password'),\n",
    "        \"ssh_public_key\": \"\"\n",
    "    },\n",
    "    \"keyvault_id\": \"\",\n",
    "    \"container_registry\" : {\n",
    "        \"user\": \"\",\n",
    "        \"password\": \"\",\n",
    "        \"secret_url\": \"\"\n",
    "    }\n",
    "}"
   ]
  },
  {
   "cell_type": "markdown",
   "metadata": {},
   "source": [
    "Write the configuration to a JSON file."
   ]
  },
  {
   "cell_type": "code",
   "execution_count": null,
   "metadata": {},
   "outputs": [],
   "source": [
    "configuration_path = os.getenv('configuration_path')\n",
    "with open(configuration_path, 'w') as fp:\n",
    "    json.dump(cfg, fp, indent=4, sort_keys=True)"
   ]
  },
  {
   "cell_type": "markdown",
   "metadata": {},
   "source": [
    "In the next [notebook](04_Create_Cluster.ipynb), we will create a cluster using the Batch AI framework."
   ]
  }
 ],
 "metadata": {
  "kernelspec": {
   "display_name": "Python [conda env:MLBatchAIHyperparameterTuning]",
   "language": "python",
   "name": "conda-env-MLBatchAIHyperparameterTuning-py"
  },
  "language_info": {
   "codemirror_mode": {
    "name": "ipython",
    "version": 3
   },
   "file_extension": ".py",
   "mimetype": "text/x-python",
   "name": "python",
   "nbconvert_exporter": "python",
   "pygments_lexer": "ipython3",
   "version": "3.5.5"
  }
 },
 "nbformat": 4,
 "nbformat_minor": 2
}
